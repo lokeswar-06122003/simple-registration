{
 "cells": [
  {
   "cell_type": "code",
   "execution_count": 1,
   "id": "89758c5d-8a56-4c18-8ecc-1f90bea2a558",
   "metadata": {},
   "outputs": [
    {
     "ename": "SyntaxError",
     "evalue": "invalid syntax (1134587942.py, line 1)",
     "output_type": "error",
     "traceback": [
      "\u001b[1;36m  Cell \u001b[1;32mIn[1], line 1\u001b[1;36m\u001b[0m\n\u001b[1;33m    pip install nltk\u001b[0m\n\u001b[1;37m        ^\u001b[0m\n\u001b[1;31mSyntaxError\u001b[0m\u001b[1;31m:\u001b[0m invalid syntax\n"
     ]
    }
   ],
   "source": [
    "pip install nltk\n",
    "\n"
   ]
  },
  {
   "cell_type": "code",
   "execution_count": 2,
   "id": "6740e1cf-0bf1-431c-96f1-6a18cc22cc5d",
   "metadata": {},
   "outputs": [
    {
     "name": "stdout",
     "output_type": "stream",
     "text": [
      "Requirement already satisfied: nltk in c:\\users\\loke\\anaconda3\\lib\\site-packages (3.8.1)Note: you may need to restart the kernel to use updated packages.\n",
      "\n",
      "Requirement already satisfied: click in c:\\users\\loke\\anaconda3\\lib\\site-packages (from nltk) (8.1.7)\n",
      "Requirement already satisfied: joblib in c:\\users\\loke\\anaconda3\\lib\\site-packages (from nltk) (1.2.0)\n",
      "Requirement already satisfied: regex>=2021.8.3 in c:\\users\\loke\\anaconda3\\lib\\site-packages (from nltk) (2023.10.3)\n",
      "Requirement already satisfied: tqdm in c:\\users\\loke\\anaconda3\\lib\\site-packages (from nltk) (4.65.0)\n",
      "Requirement already satisfied: colorama in c:\\users\\loke\\appdata\\roaming\\python\\python311\\site-packages (from click->nltk) (0.4.6)\n"
     ]
    }
   ],
   "source": [
    "pip install nltk"
   ]
  },
  {
   "cell_type": "code",
   "execution_count": 7,
   "id": "12c7b754-c20d-4e23-a8fa-a583a0582b0b",
   "metadata": {},
   "outputs": [],
   "source": [
    "import nltk\n",
    "from nltk.chat.util import Chat, reflections\n",
    "import tkinter as tk\n",
    "from tkinter import scrolledtext\n",
    "import random\n",
    "pairs = [\n",
    "    [\n",
    "        r\"hi|hello|hey\",\n",
    "        [\"Hello!\", \"Hey there!\", \"Hi! How can I help you today?\"]\n",
    "    ],\n",
    "    [\n",
    "        r\"how are you?\",\n",
    "        [\"I'm a chatbot(simplebot), so I don't have feelings, but I'm here to help you!\", \"I'm doing well, thank you! How can I assist you today?\"]\n",
    "    ],\n",
    "    [\n",
    "        r\"what is your name?\",\n",
    "        [\"I'm a chatbot, my name is simple chatbot created to assist you!\", \"You can call me Chatbot.\"]\n",
    "    ],\n",
    "    [\n",
    "        r\"bye|goodbye\",\n",
    "        [\"Goodbye! Have a nice day!\", \"Bye! Take care!\"]\n",
    "    ],\n",
    "    [\n",
    "        r\"thank you|thanks\",\n",
    "        [\"You're welcome!\", \"No problem!\"]\n",
    "    ],\n",
    "    [\n",
    "        r\"(.*)\",\n",
    "        [\"Sorry, I didn't understand that. Can you rephrase?\"]\n",
    "    ]\n",
    "]\n",
    "\n",
    "# Create a chatbot using the pairs and reflections\n",
    "chatbot = Chat(pairs, reflections)\n",
    "def send():\n",
    "    user_input = entry_box.get(\"1.0\", 'end-1c').strip()\n",
    "    entry_box.delete(\"0.0\", tk.END)\n",
    "    \n",
    "    if user_input:\n",
    "        chat_window.config(state=tk.NORMAL)\n",
    "        chat_window.insert(tk.END, \"You: \" + user_input + \"\\n\\n\")\n",
    "        chat_window.config(foreground=\"#442265\", font=(\"Verdana\", 12))\n",
    "\n",
    "        response = chatbot.respond(user_input)\n",
    "        chat_window.insert(tk.END, \"Bot: \" + response + \"\\n\\n\")\n",
    "        chat_window.config(state=tk.DISABLED)\n",
    "        chat_window.yview(tk.END)\n",
    "\n",
    "# Initialize the GUI\n",
    "root = tk.Tk()\n",
    "root.title(\"Chatbot\")\n",
    "root.geometry(\"500x600\")\n",
    "root.resizable(width=False, height=False)\n",
    "\n",
    "# Create chat window\n",
    "chat_window = scrolledtext.ScrolledText(root, bd=1, bg=\"white\", width=50, height=8, font=(\"Arial\", 12))\n",
    "chat_window.config(state=tk.DISABLED)\n",
    "chat_window.grid(row=0, column=0, columnspan=2, padx=10, pady=10)\n",
    "\n",
    "# Create the entry box\n",
    "entry_box = tk.Text(root, bd=0, bg=\"white\", width=32, height=6, font=(\"Arial\", 12))\n",
    "entry_box.grid(row=1, column=0, padx=10, pady=10)\n",
    "\n",
    "# Create the send button\n",
    "send_button = tk.Button(root, text=\"Send\", font=(\"Arial\", 12), width=12, height=2, bd=0, bg=\"#32de97\", activebackground=\"#3c9d9b\", fg='#ffffff', command=send)\n",
    "send_button.grid(row=1, column=1, padx=10, pady=10)\n",
    "\n",
    "# Run the GUI\n",
    "root.mainloop()\n"
   ]
  },
  {
   "cell_type": "code",
   "execution_count": null,
   "id": "c32400e4-91db-4076-9ccc-883fd4582ab2",
   "metadata": {},
   "outputs": [],
   "source": []
  }
 ],
 "metadata": {
  "kernelspec": {
   "display_name": "Python 3 (ipykernel)",
   "language": "python",
   "name": "python3"
  },
  "language_info": {
   "codemirror_mode": {
    "name": "ipython",
    "version": 3
   },
   "file_extension": ".py",
   "mimetype": "text/x-python",
   "name": "python",
   "nbconvert_exporter": "python",
   "pygments_lexer": "ipython3",
   "version": "3.11.7"
  }
 },
 "nbformat": 4,
 "nbformat_minor": 5
}
